{
 "cells": [
  {
   "cell_type": "code",
   "execution_count": 3,
   "id": "f6e3b4ae",
   "metadata": {},
   "outputs": [
    {
     "ename": "SyntaxError",
     "evalue": "invalid syntax (3994633371.py, line 11)",
     "output_type": "error",
     "traceback": [
      "\u001b[1;36m  Cell \u001b[1;32mIn[3], line 11\u001b[1;36m\u001b[0m\n\u001b[1;33m    server:\u001b[0m\n\u001b[1;37m           ^\u001b[0m\n\u001b[1;31mSyntaxError\u001b[0m\u001b[1;31m:\u001b[0m invalid syntax\n"
     ]
    }
   ],
   "source": [
    "# Comments are provided throughout this file to help you get started.\n",
    "# If you need more help, visit the Docker Compose reference guide at\n",
    "# https://docs.docker.com/go/compose-spec-reference/\n",
    "\n",
    "# Here the instructions define your application as a service called \"server\".\n",
    "# This service is built from the Dockerfile in the current directory.\n",
    "# You can add other services your application may depend on here, such as a\n",
    "# database or a cache. For examples, see the Awesome Compose repository:\n",
    "# https://github.com/docker/awesome-compose\n",
    "#services:\n",
    "server:\n",
    " build:\n",
    " context: .\n",
    "   ports:\n",
    "    - 5000:5000\n",
    "\n",
    "# The commented out section below is an example of how to define a PostgreSQL\n",
    "# database that your application can use. `depends_on` tells Docker Compose to\n",
    "# start the database before your application. The `db-data` volume persists the\n",
    "# database data between container restarts. The `db-password` secret is used\n",
    "# to set the database password. You must create `db/password.txt` and add\n",
    "# a password of your choosing to it before running `docker compose up`.\n",
    "#     depends_on:\n",
    "#       db:\n",
    "#         condition: service_healthy\n",
    "#   db:\n",
    "#     image: postgres\n",
    "#     restart: always\n",
    "#     user: postgres\n",
    "#     secrets:\n",
    "#       - db-password\n",
    "#     volumes:\n",
    "#       - db-data:/var/lib/postgresql/data\n",
    "#     environment:\n",
    "#       - POSTGRES_DB=example\n",
    "#       - POSTGRES_PASSWORD_FILE=/run/secrets/db-password\n",
    "#     expose:\n",
    "#       - 5432\n",
    "#     healthcheck:\n",
    "#       test: [ \"CMD\", \"pg_isready\" ]\n",
    "#       interval: 10s\n",
    "#       timeout: 5s\n",
    "#       retries: 5\n",
    "# volumes:\n",
    "#   db-data:\n",
    "# secrets:\n",
    "#   db-password:\n",
    "#     file: db/password.txt"
   ]
  },
  {
   "cell_type": "code",
   "execution_count": null,
   "id": "e5500d2b",
   "metadata": {},
   "outputs": [],
   "source": []
  }
 ],
 "metadata": {
  "kernelspec": {
   "display_name": "Python 3 (ipykernel)",
   "language": "python",
   "name": "python3"
  },
  "language_info": {
   "codemirror_mode": {
    "name": "ipython",
    "version": 3
   },
   "file_extension": ".py",
   "mimetype": "text/x-python",
   "name": "python",
   "nbconvert_exporter": "python",
   "pygments_lexer": "ipython3",
   "version": "3.11.5"
  }
 },
 "nbformat": 4,
 "nbformat_minor": 5
}
