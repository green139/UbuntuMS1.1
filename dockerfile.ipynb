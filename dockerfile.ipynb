{
 "cells": [
  {
   "cell_type": "code",
   "execution_count": 1,
   "id": "ca505b94",
   "metadata": {},
   "outputs": [
    {
     "ename": "SyntaxError",
     "evalue": "invalid syntax (946779392.py, line 2)",
     "output_type": "error",
     "traceback": [
      "\u001b[1;36m  Cell \u001b[1;32mIn[1], line 2\u001b[1;36m\u001b[0m\n\u001b[1;33m    FROM python:3.10\u001b[0m\n\u001b[1;37m         ^\u001b[0m\n\u001b[1;31mSyntaxError\u001b[0m\u001b[1;31m:\u001b[0m invalid syntax\n"
     ]
    }
   ],
   "source": [
    "# Base image\n",
    "FROM python:3.10\n",
    "\n",
    "# Set working directory\n",
    "WORKDIR /app\n",
    "\n",
    "# Copy files\n",
    "COPY app.py /app\n",
    "COPY requirements.txt /app\n",
    "COPY model /app/model\n",
    "COPY ms /app/ms\n",
    "\n",
    "# Install dependencies\n",
    "RUN pip install -r requirements.txt\n",
    "\n",
    "# Run the application\n",
    "EXPOSE 5000\n",
    "ENTRYPOINT [\"gunicorn\", \"-b\", \"0.0.0.0:5000\", \"--access-logfile\", \"-\", \"--error-logfile\", \"-\", \"--timeout\", \"120\"]\n",
    "CMD [\"app:app\"]"
   ]
  },
  {
   "cell_type": "code",
   "execution_count": null,
   "id": "3693fc3c",
   "metadata": {},
   "outputs": [],
   "source": []
  }
 ],
 "metadata": {
  "kernelspec": {
   "display_name": "Python 3 (ipykernel)",
   "language": "python",
   "name": "python3"
  },
  "language_info": {
   "codemirror_mode": {
    "name": "ipython",
    "version": 3
   },
   "file_extension": ".py",
   "mimetype": "text/x-python",
   "name": "python",
   "nbconvert_exporter": "python",
   "pygments_lexer": "ipython3",
   "version": "3.11.5"
  }
 },
 "nbformat": 4,
 "nbformat_minor": 5
}
