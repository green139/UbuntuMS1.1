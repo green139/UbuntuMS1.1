{
 "cells": [
  {
   "cell_type": "code",
   "execution_count": null,
   "id": "1175b503",
   "metadata": {},
   "outputs": [],
   "source": [
    "# Local imports\n",
    "import datetime\n",
    "\n",
    "# Third part imports\n",
    "from flask import request\n",
    "import pandas as pd\n",
    "\n",
    "from ms import app\n",
    "from ms.functions import get_model_response\n",
    "\n",
    "\n",
    "model_name = \"Breast Cancer Wisconsin (Diagnostic)\"\n",
    "model_file = 'model_binary.dat.gz'\n",
    "version = \"v1.0.0\"\n",
    "\n",
    "\n",
    "@app.route('/info', methods=['GET'])\n",
    "def info():\n",
    "    \"\"\"Return model information, version, how to call\"\"\"\n",
    "    result = {}\n",
    "\n",
    "    result[\"name\"] = model_name\n",
    "    result[\"version\"] = version\n",
    "\n",
    "    return result\n",
    "\n",
    "\n",
    "@app.route('/health', methods=['GET'])\n",
    "def health():\n",
    "    \"\"\"Return service health\"\"\"\n",
    "    return 'ok'\n",
    "\n",
    "\n",
    "@app.route('/predict', methods=['POST'])\n",
    "def predict():\n",
    "    feature_dict = request.get_json()\n",
    "    if not feature_dict:\n",
    "        return {\n",
    "            'error': 'Body is empty.'\n",
    "        }, 500\n",
    "\n",
    "    try:\n",
    "        response = get_model_response(feature_dict)\n",
    "    except ValueError as e:\n",
    "        return {'error': str(e).split('\\n')[-1].strip()}, 500\n",
    "\n",
    "    return response, 200\n",
    "\n",
    "\n",
    "if __name__ == '__main__':\n",
    "    app.run(host='0.0.0.0')\n"
   ]
  }
 ],
 "metadata": {
  "kernelspec": {
   "display_name": "Python 3 (ipykernel)",
   "language": "python",
   "name": "python3"
  },
  "language_info": {
   "codemirror_mode": {
    "name": "ipython",
    "version": 3
   },
   "file_extension": ".py",
   "mimetype": "text/x-python",
   "name": "python",
   "nbconvert_exporter": "python",
   "pygments_lexer": "ipython3",
   "version": "3.11.5"
  }
 },
 "nbformat": 4,
 "nbformat_minor": 5
}
