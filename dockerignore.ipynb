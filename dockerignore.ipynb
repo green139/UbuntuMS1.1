{
 "cells": [
  {
   "cell_type": "code",
   "execution_count": null,
   "id": "9f4e8ac3",
   "metadata": {},
   "outputs": [],
   "source": [
    "# Include any files or directories that you don't want to be copied to your\n",
    "# container here (e.g., local build artifacts, temporary files, etc.).\n",
    "#\n",
    "# For more help, visit the .dockerignore file reference guide at\n",
    "# https://docs.docker.com/go/build-context-dockerignore/\n",
    "\n",
    "**/.DS_Store\n",
    "**/__pycache__\n",
    "**/.venv\n",
    "**/.classpath\n",
    "**/.dockerignore\n",
    "**/.env\n",
    "**/.git\n",
    "**/.gitignore\n",
    "**/.project\n",
    "**/.settings\n",
    "**/.toolstarget\n",
    "**/.vs\n",
    "**/.vscode\n",
    "**/*.*proj.user\n",
    "**/*.dbmdl\n",
    "**/*.jfm\n",
    "**/bin\n",
    "**/charts\n",
    "**/docker-compose*\n",
    "**/compose.y*ml\n",
    "**/Dockerfile*\n",
    "**/node_modules\n",
    "**/npm-debug.log\n",
    "**/obj\n",
    "**/secrets.dev.yaml\n",
    "**/values.dev.yaml\n",
    "LICENSE\n",
    "README.md"
   ]
  }
 ],
 "metadata": {
  "kernelspec": {
   "display_name": "Python 3 (ipykernel)",
   "language": "python",
   "name": "python3"
  },
  "language_info": {
   "codemirror_mode": {
    "name": "ipython",
    "version": 3
   },
   "file_extension": ".py",
   "mimetype": "text/x-python",
   "name": "python",
   "nbconvert_exporter": "python",
   "pygments_lexer": "ipython3",
   "version": "3.11.5"
  }
 },
 "nbformat": 4,
 "nbformat_minor": 5
}
